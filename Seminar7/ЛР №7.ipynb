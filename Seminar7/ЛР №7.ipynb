{
 "cells": [
  {
   "cell_type": "markdown",
   "metadata": {
    "id": "lhLob9zN-iVt"
   },
   "source": [
    "#ЛР №7\n",
    "\n",
    "Основные понятия ООП. Наследование. Полиморфизм."
   ]
  },
  {
   "cell_type": "markdown",
   "metadata": {
    "id": "dwkxHdBmrenz"
   },
   "source": [
    "#Основное задание\n",
    "\n",
    "\n"
   ]
  },
  {
   "cell_type": "markdown",
   "metadata": {
    "id": "_vUi6KpWsuHz"
   },
   "source": [
    "Написать базовый класс BaseProcessing, который предоствляет интерфейс для обработки данных (сигналы и изображения).\n",
    "\n",
    "В классе BaseProcessing реализовать следующие абстрактные методы:\n",
    "\n",
    "**Интерфейс BaseProcessing**\n",
    "\n",
    "* `_filtering()` — осуществляет фильтрацию (абстрактный метод).\n",
    "* `visualize()` — визуализирует сигнал/изображение (абстрактный метод).\n",
    "* `get_shape()` — возвращает размерность (абстрактный метод).\n",
    "* `feature_extraction()` — возвращает вектор признаков (абстрактный метод).\n",
    "\n",
    "\n",
    "Класс SignalProcessing наследует BaseProcessing и переопределяет его методы\n",
    "\n",
    "**Интерфейс SignalProcessing** (код для реализации отдельных методов ниже)\n",
    "\n",
    "* _конструктор_ — принимает на вход путь к файлу и создает соответствующие поля\n",
    "* `_filtering(signal)` — осуществляет фильтрацию сигнала (возвращает отфильтрованный сигнал).\n",
    "* `visualize()` — визуализирует сигнал.\n",
    "* `get_shape()` — возвращает длину сигнала.\n",
    "* `_signal_find_peaks(signal, find_peaks_parametres)` — находит точки максимума сигнала и возвращает их в виде списка.\n",
    "* `_calculate_RR_intervals()` — производит расчет длительности RR интервалов (попарных расстояний между пиками) и возвращает длины RR интервалов в виде списка.\n",
    "В этом методе вызываются методы _filtering и _signal_find_peak.\n",
    "* `feature_extraction()` — возвращает статистические характеристики RR интервалов на записи ECG - среднее, std, min, max (в виде списка - вектор признаков). В этом методе вызывается метод _calculate_RR_intervals.\n",
    "\n",
    "Класс ImageProcessing наследует BaseProcessing и переопределяет его методы\n",
    "\n",
    "**Интерфейс ImageProcessing** (код для реализации отдельных методов из предыдущей лабораторной)\n",
    "\n",
    "* _конструктор_ — принимает на вход путь к файлу и создает соответствующие поля\n",
    "* `_filtering(image)` — применяет фильтр Гаусса к изображению (возвращает отфильтрованное изображение).\n",
    "* `visualize()` — визуализирует изображение.\n",
    "* `get_shape()` — возвращает размерность изображения.\n",
    "* `_create_gabor_filter(parameters)` — создает и возвращает фильтр Габора с заданными параметрами.\n",
    "* `feature_extraction()` — применяет _filtering() к изображению, считает признаки с _create_gabor_filter(parameters)и возвращает вектор признаков: среднее и дисперсию по изображению.\n",
    "\n",
    "*можно добавить свои методы\n",
    "\n",
    "\n",
    "Изображение и синал находятся в папке"
   ]
  },
  {
   "cell_type": "code",
   "execution_count": null,
   "metadata": {
    "id": "ZDljiyA7DsZ4"
   },
   "outputs": [],
   "source": [
    "#Необходимые модули и функции\n",
    "from skimage.filters import gabor_kernel\n",
    "from scipy import ndimage as ndi\n",
    "import cv2 as cv\n",
    "import matplotlib.pyplot as plt\n",
    "from scipy.ndimage.filters import gaussian_filter\n",
    "from matplotlib import pyplot as plt\n",
    "import numpy as np\n",
    "import pandas as pd\n",
    "import wfdb\n",
    "import heartpy as hp\n",
    "from scipy.signal import find_peaks"
   ]
  },
  {
   "cell_type": "markdown",
   "metadata": {
    "id": "EE017XeBUISD"
   },
   "source": [
    "###Для сигнала"
   ]
  },
  {
   "cell_type": "code",
   "execution_count": null,
   "metadata": {
    "id": "vH1eO6Pt_oqT"
   },
   "outputs": [],
   "source": [
    "#загрузка сигнала из .csv файла с pandas\n",
    "df = pd.read_csv('path_to_ecg/ecg.csv')\n",
    "plt.plot(df['MLII'])\n",
    "plt.show()"
   ]
  },
  {
   "cell_type": "code",
   "execution_count": null,
   "metadata": {
    "id": "chPyKMkq_EJN"
   },
   "outputs": [],
   "source": [
    "#размерность\n",
    "df['MLII'].shape"
   ]
  },
  {
   "cell_type": "code",
   "execution_count": null,
   "metadata": {
    "id": "PHvUX9Q0EPid"
   },
   "outputs": [],
   "source": [
    "#фильтрация сигнала с библиотекой heartpy\n",
    "filtered = hp.filter_signal(df['MLII'], cutoff = [0.75, 3.5], sample_rate = 100, order = 3, filtertype='bandpass')\n",
    "plt.plot(filtered)\n",
    "plt.show()"
   ]
  },
  {
   "cell_type": "code",
   "execution_count": null,
   "metadata": {
    "id": "PvsHswIHEj5f"
   },
   "outputs": [],
   "source": [
    "#поиск точек максимума с библиотекой scipy\n",
    "peaks, _ = find_peaks(filtered, height=20)\n",
    "plt.plot(filtered)\n",
    "plt.plot(peaks, filtered[peaks], \"ecg\")\n",
    "plt.show()"
   ]
  },
  {
   "cell_type": "markdown",
   "metadata": {
    "id": "C3ky_Sf4UMlU"
   },
   "source": [
    "###Для изображения"
   ]
  },
  {
   "cell_type": "code",
   "execution_count": null,
   "metadata": {
    "id": "79xbCChcWbbe"
   },
   "outputs": [],
   "source": [
    "#Создание фильтра Габора\n",
    "frequency = 0.25\n",
    "theta = np.pi\n",
    "sigma = 1\n",
    "kernel = np.real(gabor_kernel(frequency, theta=theta, sigma_x=sigma, sigma_y=sigma))\n",
    "plt.imshow(kernel)\n",
    "plt.show()"
   ]
  },
  {
   "cell_type": "code",
   "execution_count": null,
   "metadata": {
    "id": "H1S0uf9zXJVq"
   },
   "outputs": [],
   "source": [
    "#Чтение изображения\n",
    "image = cv2.imread('path_to_image', cv2.IMREAD_GRAYSCALE)\n",
    "#Применение филтра Гаусса к изображению\n",
    "image_filtered = ndi.gaussian_filter(image, .5)"
   ]
  },
  {
   "cell_type": "code",
   "execution_count": null,
   "metadata": {
    "id": "Kk2ljcprXsaA"
   },
   "outputs": [],
   "source": [
    "#Размерность изображения\n",
    "image.shape"
   ]
  },
  {
   "cell_type": "code",
   "execution_count": null,
   "metadata": {
    "id": "RQpcRxjfUQtS"
   },
   "outputs": [],
   "source": [
    "#свертка изображения с фильтром Габора\n",
    "conv = ndi.convolve(image_filtered, kernel, mode='wrap')\n",
    "plt.imshow(conv)\n",
    "plt.show()"
   ]
  },
  {
   "cell_type": "code",
   "execution_count": null,
   "metadata": {
    "id": "Y-rAjz7JWQdM"
   },
   "outputs": [],
   "source": [
    "#Расчет вертора признаков изображения\n",
    "feats = [conv.mean(), conv.var()]"
   ]
  },
  {
   "cell_type": "markdown",
   "metadata": {
    "id": "O5XisfNjsnrh"
   },
   "source": [
    "#Задача * \"Классификатор\""
   ]
  },
  {
   "cell_type": "markdown",
   "metadata": {
    "id": "Eaa-EiJMsu9T"
   },
   "source": [
    "В классе BaseProcessing реализовать метод:\n",
    "* `get_predict(features, etalons_features)` — метод, в котором осуществляется классификация на основе рассчета Евклидова расстояния между features изображения или сигнала и эталонными значениями признаков (etalons_features) каждого класса изображений или сигналов. Классификация осуществляется следующим образом: полученные Евклидовы расстояния ранжируются в порядке возрастания. Чем меньше Евклидово расстояние, тем более похожим на эталонное изображение считается наше изображение. Выбирается индекс соответствуюших эталонных признаков, которые и являются номером класса. Эталонных класса 2, т.е. возвращается 0 или 1, т.е. класс к которому относится изображение/сигнал.\n",
    "\n",
    "Классы SignalProcessing и ImageProcessing наследуют реализованный метод get_predict.\n",
    "\n",
    "Продемонстрировать вызов метода в классах\n",
    "\n",
    "Эталонные признаки (etalons_features) могут подаются в формате списка:\n",
    "[[1, 8], [5, 0.5]] -> тогда класс вернуть по индексу\n",
    "\n",
    "или в формате словаря [{'features': [1, 8], 'class': 0}, {'features': [5, 0.5], 'class': 1}]"
   ]
  },
  {
   "cell_type": "markdown",
   "metadata": {
    "id": "2DeSPEA-sTLO"
   },
   "source": [
    "#Задача ***  \"Словарь-директория\" в папке\n",
    "\n"
   ]
  },
  {
   "cell_type": "code",
   "execution_count": null,
   "metadata": {},
   "outputs": [],
   "source": []
  }
 ],
 "metadata": {
  "colab": {
   "authorship_tag": "ABX9TyNsfm9XAMXvIauMwFbkNhhG",
   "collapsed_sections": [
    "EE017XeBUISD",
    "C3ky_Sf4UMlU",
    "O5XisfNjsnrh",
    "C4JXV33cNmra",
    "2DeSPEA-sTLO"
   ],
   "provenance": []
  },
  "kernelspec": {
   "display_name": "Python 3 (ipykernel)",
   "language": "python",
   "name": "python3"
  },
  "language_info": {
   "codemirror_mode": {
    "name": "ipython",
    "version": 3
   },
   "file_extension": ".py",
   "mimetype": "text/x-python",
   "name": "python",
   "nbconvert_exporter": "python",
   "pygments_lexer": "ipython3",
   "version": "3.10.11"
  }
 },
 "nbformat": 4,
 "nbformat_minor": 4
}
