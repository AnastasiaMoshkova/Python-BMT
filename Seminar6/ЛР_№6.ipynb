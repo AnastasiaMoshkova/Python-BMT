{
  "nbformat": 4,
  "nbformat_minor": 0,
  "metadata": {
    "colab": {
      "provenance": []
    },
    "kernelspec": {
      "name": "python3",
      "display_name": "Python 3"
    },
    "language_info": {
      "name": "python"
    }
  },
  "cells": [
    {
      "cell_type": "markdown",
      "source": [
        "#ЛР №6\n",
        "\n",
        "Основные понятия ООП. Инкапсуляция. Классы. Декораторы."
      ],
      "metadata": {
        "id": "lhLob9zN-iVt"
      }
    },
    {
      "cell_type": "markdown",
      "source": [
        "##Основная задача \"Эксперимент\""
      ],
      "metadata": {
        "id": "nUzRy3Tr60ju"
      }
    },
    {
      "cell_type": "markdown",
      "source": [
        "Нужно написать класс \"Эксперимент\", который производит работу с данными.\n",
        "\n",
        "Вы получили данные в виде словаря. Словарь имеет следующую структуру {'date': '2023-01-05', 'signal': 'path_to_ecg_signal', 'parameters':{}}\n",
        "\n",
        "**Интерфейс**\n",
        "\n",
        "Нужно написать класс, где должны поддерживаться следующие методы:\n",
        "\n",
        "* _конструктор_ — принимает словарь и создает соответствующие поля (self.data, self.path_signal, self.parameters)\n",
        "* `get_datе()` — возвращает дату записи сигнала.\n",
        "* `get_signal_length()` — возвращает длину сигнала.\n",
        "* `plot_signal()` — выводит график сигнала.\n",
        "* `_signal_filtration(signal, filtration_parametres)` — производит фильтрацию сигнала.\n",
        "* `_signal_find_peaks(signal, find_peaks_parametres)` — находит точки максимума сигнала и возвращает их в виде списка.\n",
        "* `_calculate_RR_intervals()` — производит расчет длительности RR интервалов и возвращает длины RR интервалов в виде списка.\n",
        "В этом методе вызываются методы _signal_filtration и _signal_find_peak.\n",
        "* `get_RR_statistics()` — возвращает статистические характеристики RR интервалов на записи ECG - среднее, std, min, max (в виде словаря).\n",
        "В этом методе вызывается метод _calculate_RR_intervals.\n",
        "\n",
        "\n",
        "*можно добавить свои методы\n",
        "\n",
        "\n",
        "\n",
        "\n"
      ],
      "metadata": {
        "id": "KVGd2E-560jw"
      }
    },
    {
      "cell_type": "markdown",
      "source": [
        "Файл с ЭКГ сигналом (ecg.csv) в папке"
      ],
      "metadata": {
        "id": "pO8UG9geDsxa"
      }
    },
    {
      "cell_type": "code",
      "source": [
        "#модули, которые нам понадобятся\n",
        "import matplotlib\n",
        "from matplotlib import pyplot as plt\n",
        "import numpy as np\n",
        "import pandas as pd\n",
        "import wfdb\n",
        "import heartpy as hp\n",
        "from scipy.signal import find_peaks"
      ],
      "metadata": {
        "id": "ZDljiyA7DsZ4"
      },
      "execution_count": null,
      "outputs": []
    },
    {
      "cell_type": "code",
      "source": [
        "#загрузка сигнала из .csv файла с pandas\n",
        "df = pd.read_csv('path_to_ecg/ecg.csv')\n",
        "plt.plot(df['MLII'])\n",
        "plt.show()"
      ],
      "metadata": {
        "id": "vH1eO6Pt_oqT"
      },
      "execution_count": null,
      "outputs": []
    },
    {
      "cell_type": "code",
      "source": [
        "#фильтрация сигнала с библиотекой heartpy\n",
        "filtered = hp.filter_signal(df['MLII'], cutoff = [0.75, 3.5], sample_rate = 100, order = 3, filtertype='bandpass')\n",
        "plt.plot(filtered)\n",
        "plt.show()"
      ],
      "metadata": {
        "id": "PHvUX9Q0EPid"
      },
      "execution_count": null,
      "outputs": []
    },
    {
      "cell_type": "code",
      "source": [
        "#поиск точек максимума с библиотекой scipy\n",
        "peaks, _ = find_peaks(filtered, height=20)\n",
        "plt.plot(filtered)\n",
        "plt.plot(peaks, filtered[peaks], \"ecg\")\n",
        "plt.show()"
      ],
      "metadata": {
        "id": "PvsHswIHEj5f"
      },
      "execution_count": null,
      "outputs": []
    },
    {
      "cell_type": "markdown",
      "source": [
        "##Задача ** \"Минигольф\"\n",
        "\n",
        " в папке на githab"
      ],
      "metadata": {
        "id": "C4JXV33cNmra"
      }
    }
  ]
}